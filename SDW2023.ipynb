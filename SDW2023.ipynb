{
  "cells": [
    {
      "cell_type": "markdown",
      "metadata": {
        "colab_type": "text",
        "id": "view-in-github"
      },
      "source": [
        "<a href=\"https://colab.research.google.com/github/WillWonk4/SDW2023-API-ETL-PYTHON/blob/main/SDW2023.ipynb\" target=\"_parent\"><img src=\"https://colab.research.google.com/assets/colab-badge.svg\" alt=\"Open In Colab\"/></a>"
      ]
    },
    {
      "cell_type": "markdown",
      "metadata": {
        "id": "BPJQsTCULaC-"
      },
      "source": [
        "# Santander Dev Week 2023 (ETL com Python)"
      ]
    },
    {
      "cell_type": "markdown",
      "metadata": {
        "id": "k5fA5OrXt1a3"
      },
      "source": [
        "**Contexto:** Você é um cientista de dados no Santander e recebeu a tarefa de envolver seus clientes de maneira mais personalizada. Seu objetivo é usar o poder da IA Generativa para criar mensagens de marketing personalizadas que serão entregues a cada cliente.\n",
        "\n",
        "**Condições do Problema:**\n",
        "\n",
        "1. Você recebeu uma planilha simples, em formato CSV ('SDW2023.csv'), com uma lista de IDs de usuário do banco:\n",
        "  ```\n",
        "  UserID\n",
        "  1\n",
        "  2\n",
        "  3\n",
        "  4\n",
        "  5\n",
        "  ```\n",
        "2. Seu trabalho é consumir o endpoint `GET https://sdw-2023-prd.up.railway.app/users/{id}` (API da Santander Dev Week 2023) para obter os dados de cada cliente.\n",
        "3. Depois de obter os dados dos clientes, você vai usar a API do ChatGPT (OpenAI) para gerar uma mensagem de marketing personalizada para cada cliente. Essa mensagem deve enfatizar a importância dos investimentos.\n",
        "4. Uma vez que a mensagem para cada cliente esteja pronta, você vai enviar essas informações de volta para a API, atualizando a lista de \"news\" de cada usuário usando o endpoint `PUT https://sdw-2023-prd.up.railway.app/users/{id}`.\n",
        "\n"
      ]
    },
    {
      "cell_type": "code",
      "execution_count": 22,
      "metadata": {
        "id": "FKqLC_CWoYqR"
      },
      "outputs": [],
      "source": [
        "# Utilize sua própria URL se quiser ;)\n",
        "# Repositório da API: https://github.com/WillWonk4/santander-dev-week-2023-api.git\n",
        "sdw2023_api_url = 'https://sdw-2023-prd.up.railway.app'"
      ]
    },
    {
      "cell_type": "markdown",
      "metadata": {
        "id": "9dfI-o7gLRq9"
      },
      "source": [
        "## **E**xtract\n",
        "\n",
        "Extraia a lista de IDs de usuário a partir do arquivo CSV. Para cada ID, faça uma requisição GET para obter os dados do usuário correspondente."
      ]
    },
    {
      "cell_type": "code",
      "execution_count": 23,
      "metadata": {
        "colab": {
          "base_uri": "https://localhost:8080/"
        },
        "id": "NYydpX_GLRCB",
        "outputId": "e8936402-3d71-42e0-e004-7821390a08b0"
      },
      "outputs": [
        {
          "name": "stdout",
          "output_type": "stream",
          "text": [
            "[944, 945, 946]\n"
          ]
        }
      ],
      "source": [
        "import pandas as pd\n",
        "\n",
        "df = pd.read_csv('SDW2023.csv')\n",
        "user_ids = df['UserID'].tolist()\n",
        "print(user_ids)"
      ]
    },
    {
      "cell_type": "code",
      "execution_count": 24,
      "metadata": {
        "colab": {
          "base_uri": "https://localhost:8080/"
        },
        "id": "F5XOuCZGSTGw",
        "outputId": "4c2c7503-4ffe-4326-f69c-94a5e2a5a249"
      },
      "outputs": [
        {
          "name": "stdout",
          "output_type": "stream",
          "text": [
            "[\n",
            "  {\n",
            "    \"id\": 944,\n",
            "    \"name\": \"willian\",\n",
            "    \"account\": {\n",
            "      \"id\": 1000,\n",
            "      \"number\": \"00184-1\",\n",
            "      \"agency\": \"0001\",\n",
            "      \"balance\": 0.0,\n",
            "      \"limit\": 1500.0\n",
            "    },\n",
            "    \"card\": {\n",
            "      \"id\": 923,\n",
            "      \"number\": \"**** **** **** 1858\",\n",
            "      \"limit\": 800.0\n",
            "    },\n",
            "    \"features\": [\n",
            "      {\n",
            "        \"id\": 341,\n",
            "        \"icon\": \"string\",\n",
            "        \"description\": \"investimentos\"\n",
            "      }\n",
            "    ],\n",
            "    \"news\": [\n",
            "      {\n",
            "        \"id\": 2210,\n",
            "        \"icon\": \"string\",\n",
            "        \"description\": \"a\\u00e7oes\"\n",
            "      }\n",
            "    ]\n",
            "  },\n",
            "  {\n",
            "    \"id\": 945,\n",
            "    \"name\": \"wolace\",\n",
            "    \"account\": {\n",
            "      \"id\": 1001,\n",
            "      \"number\": \"00189-1\",\n",
            "      \"agency\": \"0001\",\n",
            "      \"balance\": 0.0,\n",
            "      \"limit\": 1800.0\n",
            "    },\n",
            "    \"card\": {\n",
            "      \"id\": 924,\n",
            "      \"number\": \"**** **** **** 1828\",\n",
            "      \"limit\": 900.0\n",
            "    },\n",
            "    \"features\": [\n",
            "      {\n",
            "        \"id\": 342,\n",
            "        \"icon\": \"string\",\n",
            "        \"description\": \"programa\\u00e7\\u00e3o\"\n",
            "      }\n",
            "    ],\n",
            "    \"news\": [\n",
            "      {\n",
            "        \"id\": 2211,\n",
            "        \"icon\": \"string\",\n",
            "        \"description\": \"inteligencia artificial\"\n",
            "      }\n",
            "    ]\n",
            "  },\n",
            "  {\n",
            "    \"id\": 946,\n",
            "    \"name\": \"willy\",\n",
            "    \"account\": {\n",
            "      \"id\": 1002,\n",
            "      \"number\": \"00989-1\",\n",
            "      \"agency\": \"0001\",\n",
            "      \"balance\": 0.0,\n",
            "      \"limit\": 1900.0\n",
            "    },\n",
            "    \"card\": {\n",
            "      \"id\": 925,\n",
            "      \"number\": \"**** **** **** 1928\",\n",
            "      \"limit\": 1100.0\n",
            "    },\n",
            "    \"features\": [\n",
            "      {\n",
            "        \"id\": 343,\n",
            "        \"icon\": \"string\",\n",
            "        \"description\": \"roupas\"\n",
            "      }\n",
            "    ],\n",
            "    \"news\": [\n",
            "      {\n",
            "        \"id\": 2212,\n",
            "        \"icon\": \"string\",\n",
            "        \"description\": \"academia\"\n",
            "      }\n",
            "    ]\n",
            "  }\n",
            "]\n"
          ]
        }
      ],
      "source": [
        "import requests\n",
        "import json\n",
        "\n",
        "def get_user(id):\n",
        "  response = requests.get(f'{sdw2023_api_url}/users/{id}')\n",
        "  return response.json() if response.status_code == 200 else None\n",
        "\n",
        "users = [user for id in user_ids if (user := get_user(id)) is not None]\n",
        "print(json.dumps(users, indent=2))"
      ]
    },
    {
      "cell_type": "markdown",
      "metadata": {
        "id": "cWoqInB4TF1x"
      },
      "source": [
        "## **T**ransform\n",
        "\n",
        "Utilize a API do OpenAI GPT-4 para gerar uma mensagem de marketing personalizada para cada usuário."
      ]
    },
    {
      "cell_type": "code",
      "execution_count": 14,
      "metadata": {
        "colab": {
          "base_uri": "https://localhost:8080/"
        },
        "id": "O--PCAObTQkK",
        "outputId": "1205db6a-e717-441d-bcfc-719949263bea"
      },
      "outputs": [
        {
          "name": "stdout",
          "output_type": "stream",
          "text": [
            "Requirement already satisfied: openai in c:\\python311\\lib\\site-packages (0.27.10)\n",
            "Requirement already satisfied: requests>=2.20 in c:\\python311\\lib\\site-packages (from openai) (2.31.0)\n",
            "Requirement already satisfied: tqdm in c:\\python311\\lib\\site-packages (from openai) (4.66.1)\n",
            "Requirement already satisfied: aiohttp in c:\\python311\\lib\\site-packages (from openai) (3.8.5)\n",
            "Requirement already satisfied: charset-normalizer<4,>=2 in c:\\python311\\lib\\site-packages (from requests>=2.20->openai) (3.2.0)\n",
            "Requirement already satisfied: idna<4,>=2.5 in c:\\python311\\lib\\site-packages (from requests>=2.20->openai) (3.4)\n",
            "Requirement already satisfied: urllib3<3,>=1.21.1 in c:\\python311\\lib\\site-packages (from requests>=2.20->openai) (2.0.4)\n",
            "Requirement already satisfied: certifi>=2017.4.17 in c:\\python311\\lib\\site-packages (from requests>=2.20->openai) (2023.7.22)\n",
            "Requirement already satisfied: attrs>=17.3.0 in c:\\python311\\lib\\site-packages (from aiohttp->openai) (23.1.0)\n",
            "Requirement already satisfied: multidict<7.0,>=4.5 in c:\\python311\\lib\\site-packages (from aiohttp->openai) (6.0.4)\n",
            "Requirement already satisfied: async-timeout<5.0,>=4.0.0a3 in c:\\python311\\lib\\site-packages (from aiohttp->openai) (4.0.3)\n",
            "Requirement already satisfied: yarl<2.0,>=1.0 in c:\\python311\\lib\\site-packages (from aiohttp->openai) (1.9.2)\n",
            "Requirement already satisfied: frozenlist>=1.1.1 in c:\\python311\\lib\\site-packages (from aiohttp->openai) (1.4.0)\n",
            "Requirement already satisfied: aiosignal>=1.1.2 in c:\\python311\\lib\\site-packages (from aiohttp->openai) (1.3.1)\n",
            "Requirement already satisfied: colorama in c:\\users\\willi\\appdata\\roaming\\python\\python311\\site-packages (from tqdm->openai) (0.4.6)\n"
          ]
        },
        {
          "name": "stderr",
          "output_type": "stream",
          "text": [
            "\n",
            "[notice] A new release of pip is available: 23.1.2 -> 23.2.1\n",
            "[notice] To update, run: python.exe -m pip install --upgrade pip\n"
          ]
        }
      ],
      "source": [
        "!pip install openai"
      ]
    },
    {
      "cell_type": "code",
      "execution_count": 27,
      "metadata": {
        "id": "sUB1doiDTX3y"
      },
      "outputs": [],
      "source": [
        "# Documentação Oficial da API OpenAI: https://platform.openai.com/docs/api-reference/introduction\n",
        "# Informações sobre o Período Gratuito: https://help.openai.com/en/articles/4936830\n",
        "\n",
        "# Para gerar uma API Key:\n",
        "# 1. Crie uma conta na OpenAI\n",
        "# 2. Acesse a seção \"API Keys\"\n",
        "# 3. Clique em \"Create API Key\"\n",
        "# Link direto: https://platform.openai.com/account/api-keys\n",
        "\n",
        "# Substitua o texto TODO por sua API Key da OpenAI, ela será salva como uma variável de ambiente.\n",
        "openai_api_key = "TODO Utilize sua chave API key da OpenAI"
      ]
    },
    {
      "cell_type": "code",
      "execution_count": 32,
      "metadata": {
        "colab": {
          "base_uri": "https://localhost:8080/"
        },
        "id": "n1w78kNxTrZY",
        "outputId": "092b771f-289f-4aa5-8f81-b6e68a840b19"
      },
      "outputs": [],
      "source": [
        "import openai\n",
        "\n",
        "openai.api_key = openai_api_key\n",
        "\n",
        "def generate_ai_news(user):\n",
        "  completion = openai.ChatCompletion.create(\n",
        "    model=\"gpt-4\",\n",
        "    messages=[\n",
        "      {\n",
        "          \"role\": \"system\",\n",
        "          \"content\": \"Você é um especialista em markting.\"\n",
        "      },\n",
        "      {\n",
        "          \"role\": \"user\",\n",
        "          \"content\": f\"Crie uma mensagem para {user['name']} sobre {user['features']} adicionando ao assunto {user['news']} (máximo de 100 caracteres)\"\n",
        "      }\n",
        "    ]\n",
        "  )\n",
        "  return completion.choices[0].message.content.strip('\\\"')\n",
        "\n",
        "for user in users:\n",
        "  news = generate_ai_news(user)\n",
        "  print(news)\n",
        "  user['news'].append({\n",
        "      \"icon\": \"https://digitalinnovationone.github.io/santander-dev-week-2023-api/icons/credit.svg\",\n",
        "      \"description\": news\n",
        "  })"
      ]
    },
    {
      "cell_type": "markdown",
      "metadata": {
        "id": "kNuP0SDUZMBY"
      },
      "source": [
        "## **L**oad\n",
        "\n",
        "Atualize a lista de \"news\" de cada usuário na API com a nova mensagem gerada."
      ]
    },
    {
      "cell_type": "code",
      "execution_count": null,
      "metadata": {
        "colab": {
          "base_uri": "https://localhost:8080/"
        },
        "id": "YefWfYBoZMN2",
        "outputId": "fdd67249-e359-40be-9b00-85bacbb3465a"
      },
      "outputs": [
        {
          "name": "stdout",
          "output_type": "stream",
          "text": [
            "User piterson updated? True!\n",
            "User chosen updated? True!\n",
            "User drausio updated? True!\n"
          ]
        }
      ],
      "source": [
        "def update_user(user):\n",
        "  response = requests.put(f\"{sdw2023_api_url}/users/{user['id']}\", json=user)\n",
        "  return True if response.status_code == 200 else False\n",
        "\n",
        "for user in users:\n",
        "  success = update_user(user)\n",
        "  print(f\"User {user['name']} updated? {success}!\")"
      ]
    }
  ],
  "metadata": {
    "colab": {
      "collapsed_sections": [
        "kNuP0SDUZMBY"
      ],
      "include_colab_link": true,
      "provenance": []
    },
    "kernelspec": {
      "display_name": "Python 3",
      "name": "python3"
    },
    "language_info": {
      "codemirror_mode": {
        "name": "ipython",
        "version": 3
      },
      "file_extension": ".py",
      "mimetype": "text/x-python",
      "name": "python",
      "nbconvert_exporter": "python",
      "pygments_lexer": "ipython3",
      "version": "3.11.4"
    }
  },
  "nbformat": 4,
  "nbformat_minor": 0
}
